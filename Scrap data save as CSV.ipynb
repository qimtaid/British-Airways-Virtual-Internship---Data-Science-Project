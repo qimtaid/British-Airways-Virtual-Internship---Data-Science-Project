{
 "cells": [
  {
   "cell_type": "code",
   "execution_count": 11,
   "id": "93fcb2a4",
   "metadata": {},
   "outputs": [],
   "source": [
    "import csv\n",
    "import requests\n",
    "from bs4 import BeautifulSoup\n",
    "\n",
    "# Define the URL of the British Airways review page on airlinequality.com\n",
    "url = 'https://www.airlinequality.com/airline-reviews/british-airways/'\n",
    "\n",
    "# Send an HTTP GET request to the URL and parse the response HTML with BeautifulSoup\n",
    "response = requests.get(url)\n",
    "soup = BeautifulSoup(response.text, 'html.parser')\n",
    "\n",
    "# Find all the review cards on the page\n",
    "review_cards = soup.find_all('article', {'itemtype': 'http://schema.org/Review'})\n",
    "\n",
    "# Create a CSV file and write the headers\n",
    "with open('C:/Users/User/Documents/Data Analysis MasterClass/British Airways Internship/british_airways_reviews.csv', mode='w', newline='') as file:\n",
    "    writer = csv.writer(file)\n",
    "    writer.writerow(['Date', 'Title', 'Content', 'Rating'])\n",
    "\n",
    "    # Loop through each review card and extract the relevant data\n",
    "    for card in review_cards:\n",
    "        date = card.find('time', {'itemprop': 'datePublished'}).get('datetime')\n",
    "        title = card.find('h2', {'class': 'text_header'}).text.strip()\n",
    "        content = card.find('div', {'class': 'text_content'}).text.strip()\n",
    "        rating_element = card.find('div', {'class': 'rating'})\n",
    "if rating_element is not None:\n",
    "    rating = rating_element.get('aria-label').split(' ')[0]\n",
    "else:\n",
    "    rating = ''\n",
    "\n",
    "\n",
    "        # Write the data to the CSV file\n",
    "with open('british_airways_reviews.csv', mode='w', newline='', encoding='utf-8') as file:\n",
    "    writer = csv.writer(file)\n",
    "    writer.writerow(['Date', 'Title', 'Content', 'Rating'])\n",
    "    \n",
    "    # Scrape data from the website\n",
    "    for page_num in range(1, 11):\n",
    "        # Code for scraping the data\n",
    "        \n",
    "        # Write the data to the CSV file\n",
    "        writer.writerow([date, title, content, rating])\n"
   ]
  },
  {
   "cell_type": "code",
   "execution_count": null,
   "id": "13b7bb40",
   "metadata": {},
   "outputs": [],
   "source": []
  }
 ],
 "metadata": {
  "kernelspec": {
   "display_name": "Python 3 (ipykernel)",
   "language": "python",
   "name": "python3"
  },
  "language_info": {
   "codemirror_mode": {
    "name": "ipython",
    "version": 3
   },
   "file_extension": ".py",
   "mimetype": "text/x-python",
   "name": "python",
   "nbconvert_exporter": "python",
   "pygments_lexer": "ipython3",
   "version": "3.9.13"
  }
 },
 "nbformat": 4,
 "nbformat_minor": 5
}
